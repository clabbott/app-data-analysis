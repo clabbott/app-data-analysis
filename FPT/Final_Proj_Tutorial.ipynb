{
 "cells": [
  {
   "cell_type": "markdown",
   "metadata": {},
   "source": [
    "# App Data Analysis Tutorial\n",
    "\n",
    "Clark Abbott and Henry Covington"
   ]
  },
  {
   "cell_type": "markdown",
   "metadata": {},
   "source": [
    "## Introduction"
   ]
  },
  {
   "cell_type": "code",
   "execution_count": 2,
   "metadata": {},
   "outputs": [],
   "source": [
    "# This is the Final Project Tutorial File\n",
    "# We will scrape data from https://www.kaggle.com/lava18/google-play-store-apps\n",
    "# This project is hosted at https://github.com/clabbott/app-data-analysis"
   ]
  },
  {
   "cell_type": "markdown",
   "metadata": {},
   "source": [
    "#### There's An App For That\n",
    "\n",
    "As you may know, in 2007 Apple took the world of technology by storm unveiling their newest product, the IPhone. Today, <a href=\"https://www.pewresearch.org/internet/fact-sheet/mobile/\"> 81% of Americans own a smartphone</a> and <a href=\"https://review42.com/smartphone-statistics/#:~:text=There%20are%205.11%20billion%20unique,billion%20of%20them%20use%20smartphones.&text=100%20million%20people%20have%20started,smartphone%20users%20worldwide%20in%202020.\">there are 2.71 billion smartphone users across the globe</a>. \n",
    "\n",
    "In IPhone's 3rd generation, Apple's main slogan for the device was \"There's An App For That\". This slogan called to attention the abundance and resourcefulness of apps. It became such a popular buzz phrase that <a href=\"https://www.cnn.com/2010/TECH/mobile/10/12/app.for.that/index.html\"> Apple trademarked it </a> and gave insperation to <a href=\"https://youtu.be/EhkxDIr0y2U\"> plenty of parodies</a>. But the point stands, <a href=\"https://www.statista.com/statistics/276623/number-of-apps-available-in-leading-app-stores/#:~:text=What%20are%20the%20biggest%20app,million%20available%20apps%20for%20iOS.\"> there are over 2.8 billion apps on the Google Play Store and 1.9 on the Apple App Store</a>.\n",
    "\n",
    "In a world where the amount of apps are overabundant and smartphones become increasingly more integral to communication and entertainment, knowing what qualities get apps installed is valuable information.\n",
    "\n",
    "#### Importance With Repect to Data Science?\n",
    "Data Science has a deeper relationship with apps than being important to modern technology. Phone app stores rely heavily on algorithms to rank and query apps to provide a helpful user experience. With billions of apps to sort through, Data Science knowledge is important to the discovery of apps."
   ]
  },
  {
   "cell_type": "markdown",
   "metadata": {},
   "source": [
    "#### Tools for the Job\n",
    "For this tutorial we will use <a href=\"https://www.python.org/\"> Python </a> and several of it's useful libraries to do some of the heavy lifting. Some experience with Python is expected.\n",
    "\n",
    "<a href=\"https://pandas.pydata.org/\">Pandas</a>: Creates lightweight and easy to manipulate dataframes which we will use to hold our data.\n",
    "\n",
    "<a href=\"https://numpy.org/\">Numpy</a>: Lots of helpful mathmatic functions.\n",
    "\n",
    "<a href=\"\">Matplotlib</a>: Data visualization"
   ]
  },
  {
   "cell_type": "code",
   "execution_count": 14,
   "metadata": {},
   "outputs": [],
   "source": [
    "#import libraries\n",
    "import pandas as pd\n",
    "import datetime\n",
    "import numpy as np\n",
    "pd.options.mode.chained_assignment = None  # default='warn'\n",
    "import datetime\n",
    "import matplotlib.pyplot as plt"
   ]
  },
  {
   "cell_type": "markdown",
   "metadata": {},
   "source": [
    "## Data Collection\n",
    "\n",
    "The first step in the data life cycle is to collect data we want to use. Sometimes this means looking around, taking HTML code directly and sorting it into tables. However, there are a lot of public datasets out there and someone might already be providing the data your looking for. <a href=\"https://www.kaggle.com/\">Kaggle</a> is one place where you can find datasets and happens to have the data we are looking for in this tutorial. For this tutorial we are using Lavanya Gupta's 10k Google Play Store database. There is a lot more apps on the market today, but this is a nice sample for our tutorial. You can download and learn more about it <a href=\"https://www.kaggle.com/lava18/google-play-store-apps\">here</a>."
   ]
  },
  {
   "cell_type": "code",
   "execution_count": 10,
   "metadata": {},
   "outputs": [
    {
     "data": {
      "text/html": [
       "<div>\n",
       "<style scoped>\n",
       "    .dataframe tbody tr th:only-of-type {\n",
       "        vertical-align: middle;\n",
       "    }\n",
       "\n",
       "    .dataframe tbody tr th {\n",
       "        vertical-align: top;\n",
       "    }\n",
       "\n",
       "    .dataframe thead th {\n",
       "        text-align: right;\n",
       "    }\n",
       "</style>\n",
       "<table border=\"1\" class=\"dataframe\">\n",
       "  <thead>\n",
       "    <tr style=\"text-align: right;\">\n",
       "      <th></th>\n",
       "      <th>App</th>\n",
       "      <th>Category</th>\n",
       "      <th>Rating</th>\n",
       "      <th>Reviews</th>\n",
       "      <th>Size</th>\n",
       "      <th>Installs</th>\n",
       "      <th>Type</th>\n",
       "      <th>Price</th>\n",
       "      <th>Content Rating</th>\n",
       "      <th>Genres</th>\n",
       "      <th>Last Updated</th>\n",
       "      <th>Current Ver</th>\n",
       "      <th>Android Ver</th>\n",
       "    </tr>\n",
       "  </thead>\n",
       "  <tbody>\n",
       "    <tr>\n",
       "      <th>0</th>\n",
       "      <td>Photo Editor &amp; Candy Camera &amp; Grid &amp; ScrapBook</td>\n",
       "      <td>ART_AND_DESIGN</td>\n",
       "      <td>4.1</td>\n",
       "      <td>159</td>\n",
       "      <td>19M</td>\n",
       "      <td>10,000+</td>\n",
       "      <td>Free</td>\n",
       "      <td>0</td>\n",
       "      <td>Everyone</td>\n",
       "      <td>Art &amp; Design</td>\n",
       "      <td>January 7, 2018</td>\n",
       "      <td>1.0.0</td>\n",
       "      <td>4.0.3 and up</td>\n",
       "    </tr>\n",
       "    <tr>\n",
       "      <th>1</th>\n",
       "      <td>Coloring book moana</td>\n",
       "      <td>ART_AND_DESIGN</td>\n",
       "      <td>3.9</td>\n",
       "      <td>967</td>\n",
       "      <td>14M</td>\n",
       "      <td>500,000+</td>\n",
       "      <td>Free</td>\n",
       "      <td>0</td>\n",
       "      <td>Everyone</td>\n",
       "      <td>Art &amp; Design;Pretend Play</td>\n",
       "      <td>January 15, 2018</td>\n",
       "      <td>2.0.0</td>\n",
       "      <td>4.0.3 and up</td>\n",
       "    </tr>\n",
       "    <tr>\n",
       "      <th>2</th>\n",
       "      <td>U Launcher Lite – FREE Live Cool Themes, Hide ...</td>\n",
       "      <td>ART_AND_DESIGN</td>\n",
       "      <td>4.7</td>\n",
       "      <td>87510</td>\n",
       "      <td>8.7M</td>\n",
       "      <td>5,000,000+</td>\n",
       "      <td>Free</td>\n",
       "      <td>0</td>\n",
       "      <td>Everyone</td>\n",
       "      <td>Art &amp; Design</td>\n",
       "      <td>August 1, 2018</td>\n",
       "      <td>1.2.4</td>\n",
       "      <td>4.0.3 and up</td>\n",
       "    </tr>\n",
       "    <tr>\n",
       "      <th>3</th>\n",
       "      <td>Sketch - Draw &amp; Paint</td>\n",
       "      <td>ART_AND_DESIGN</td>\n",
       "      <td>4.5</td>\n",
       "      <td>215644</td>\n",
       "      <td>25M</td>\n",
       "      <td>50,000,000+</td>\n",
       "      <td>Free</td>\n",
       "      <td>0</td>\n",
       "      <td>Teen</td>\n",
       "      <td>Art &amp; Design</td>\n",
       "      <td>June 8, 2018</td>\n",
       "      <td>Varies with device</td>\n",
       "      <td>4.2 and up</td>\n",
       "    </tr>\n",
       "    <tr>\n",
       "      <th>4</th>\n",
       "      <td>Pixel Draw - Number Art Coloring Book</td>\n",
       "      <td>ART_AND_DESIGN</td>\n",
       "      <td>4.3</td>\n",
       "      <td>967</td>\n",
       "      <td>2.8M</td>\n",
       "      <td>100,000+</td>\n",
       "      <td>Free</td>\n",
       "      <td>0</td>\n",
       "      <td>Everyone</td>\n",
       "      <td>Art &amp; Design;Creativity</td>\n",
       "      <td>June 20, 2018</td>\n",
       "      <td>1.1</td>\n",
       "      <td>4.4 and up</td>\n",
       "    </tr>\n",
       "  </tbody>\n",
       "</table>\n",
       "</div>"
      ],
      "text/plain": [
       "                                                 App        Category  Rating  \\\n",
       "0     Photo Editor & Candy Camera & Grid & ScrapBook  ART_AND_DESIGN     4.1   \n",
       "1                                Coloring book moana  ART_AND_DESIGN     3.9   \n",
       "2  U Launcher Lite – FREE Live Cool Themes, Hide ...  ART_AND_DESIGN     4.7   \n",
       "3                              Sketch - Draw & Paint  ART_AND_DESIGN     4.5   \n",
       "4              Pixel Draw - Number Art Coloring Book  ART_AND_DESIGN     4.3   \n",
       "\n",
       "  Reviews  Size     Installs  Type Price Content Rating  \\\n",
       "0     159   19M      10,000+  Free     0       Everyone   \n",
       "1     967   14M     500,000+  Free     0       Everyone   \n",
       "2   87510  8.7M   5,000,000+  Free     0       Everyone   \n",
       "3  215644   25M  50,000,000+  Free     0           Teen   \n",
       "4     967  2.8M     100,000+  Free     0       Everyone   \n",
       "\n",
       "                      Genres      Last Updated         Current Ver  \\\n",
       "0               Art & Design   January 7, 2018               1.0.0   \n",
       "1  Art & Design;Pretend Play  January 15, 2018               2.0.0   \n",
       "2               Art & Design    August 1, 2018               1.2.4   \n",
       "3               Art & Design      June 8, 2018  Varies with device   \n",
       "4    Art & Design;Creativity     June 20, 2018                 1.1   \n",
       "\n",
       "    Android Ver  \n",
       "0  4.0.3 and up  \n",
       "1  4.0.3 and up  \n",
       "2  4.0.3 and up  \n",
       "3    4.2 and up  \n",
       "4    4.4 and up  "
      ]
     },
     "execution_count": 10,
     "metadata": {},
     "output_type": "execute_result"
    }
   ],
   "source": [
    "#Read Google Play Store data into dataframe\n",
    "df = pd.read_csv(r\"googleplaystore.csv\") \n",
    "#Set base data types. We will change some of these as we go on.\n",
    "df.astype({'App':'str', 'Category':'str', 'Rating':'float32', \n",
    "           'Reviews':'str','Size':'str','Installs':'str',\n",
    "          'Type':'str', 'Price':'str', 'Content Rating':'str', \n",
    "           'Genres':'str', 'Last Updated':'str', 'Current Ver':'str',\n",
    "          'Android Ver':'str'})\n",
    "df.head()"
   ]
  },
  {
   "cell_type": "markdown",
   "metadata": {},
   "source": [
    "## Data Processing"
   ]
  },
  {
   "cell_type": "markdown",
   "metadata": {},
   "source": [
    "The table we are scraping from has 13 columns which need to be processed differently and can be reduced and cleaned to a more manageable format. \n",
    "\n",
    "The App column is the name of the app and must be interpreted as a String. The names should all be unique. We will be dropping duplicate app names and keeping the apps that have more reviews.\n",
    "\n",
    "The Category column is the general category of the app and must be interpreted as a String. Many of the apps will have the same category value. \n",
    "\n",
    "The Rating column is the average user rating for the app between 1 and 5, with some outliers that must be dropped due to bad data that doesn't fit within these bounds. This value is a float. \n",
    "\n",
    "The Reviews column is the number of user reviews for the app. This value is an integer.\n",
    "\n",
    "The Size column is the size of the app, how much space it takes up on a device. This value contains units of Megabite and other sizes and we have standardized these values to an integer value so they can be understood in context of each other. We drop the value 'Varies with size' due to its ambigiuity. \n",
    "\n",
    "The Installs column is the number of devices that have installed the app. The raw data gives units in minimum possible values so we interpreted these minimum values into integer values. \n",
    "\n",
    "The Type column is whether it is a free app or not. This is a string value that we will interpret as a boolean value with True for Free and False for Not Free.\n",
    "\n",
    "The Price column is the price of the app. Once we remove the dollar sign from the price of some of these values, this is interpreted as a float value. \n",
    "\n",
    "The Content Rating column is a string determining which group the app is developed for. We had to break these columns down into fewer categories with only a few unique values to be able to analyze the data. The categories we chose were \"Everyone\", \"Teen\", and \"Adult\".\n",
    "\n",
    "The Genres Column is a succinct, general category for the app's content. Most apps fit into one of the multiple major categories but there are also a number of apps with more specific categories. For these apps, we placed them in one of the major categories by scanning for keywords that would give clues to their categorical placement. We formatted this column as strings. \n",
    "\n",
    "The Last Updated Column contains date information for when the app was last updated. We cleaned this data by parsing it using the datetime library so it was easier to sort through.\n",
    "\n",
    "The Current Ver Column is a string detailing the current version of the app available on the Play Store at the time of scraping. \n",
    "\n",
    "The Android Ver Column is a string detailing the minimum required version of the app to work on an android device.\n",
    "\n",
    "Notably, the scraper of the dataset included that the row for \"Life Made WI-Fi Touchscreen Photo Frame\" was formatted incorrectly so we made the choice to drop that entry, other incorrectly formatted entries, and entries with NaN in a column before cleaning. "
   ]
  },
  {
   "cell_type": "code",
   "execution_count": 11,
   "metadata": {},
   "outputs": [
    {
     "data": {
      "text/plain": [
       "App                                object\n",
       "Category                           object\n",
       "Rating                            float64\n",
       "Reviews                             int64\n",
       "Size                              float64\n",
       "Installs                            int64\n",
       "Is_Free                              bool\n",
       "Price                             float64\n",
       "Content Rating_Adult                int64\n",
       "Content Rating_Everyone             int64\n",
       "Content Rating_Teen                 int64\n",
       "Last Updated               datetime64[ns]\n",
       "Genre_Creativity                    uint8\n",
       "Genre_Education                     uint8\n",
       "Genre_Entertainment                 uint8\n",
       "Genre_Games                         uint8\n",
       "Genre_Lifestyle                     uint8\n",
       "Genre_Productivity                  uint8\n",
       "Genre_Social Networking             uint8\n",
       "Genre_Utilities                     uint8\n",
       "dtype: object"
      ]
     },
     "execution_count": 11,
     "metadata": {},
     "output_type": "execute_result"
    }
   ],
   "source": [
    "#Dropping Life Made WI-Fi Touchscreen Photo Frame and Command & Conquer: Rivals which are malformed\n",
    "df = df.drop([10472, 9148])\n",
    "\n",
    "# Dropping rows that contain any NaN\n",
    "df.dropna()\n",
    "\n",
    "# Dropping Current Ver and Android Ver due to their unuse \n",
    "df.drop(columns=['Current Ver', 'Android Ver'])\n",
    "\n",
    "#Formatting App \n",
    "\n",
    "#Dropping Duplicates, Keep app with most reviews\n",
    "df = df.sort_values('Reviews', ascending=False)\n",
    "df = df.drop_duplicates(subset='App', keep='first') #1181 Dropped Apps\n",
    "df = df.sort_index() #Sort back by index\n",
    "\n",
    "#Formatting Reviews\n",
    "\n",
    "#Converting to Numeric\n",
    "df['Reviews'] = pd.to_numeric(df['Reviews'])\n",
    "\n",
    "\n",
    "#Formatting Size\n",
    "\n",
    "#Converting \"Varies with device\" with NaN values\n",
    "#Life Made WI-Fi Touchscreen Photo Frame with a size of 1000+ is also replaced with a NaN value\n",
    "#This makes the column useable, but biased with against these values.\n",
    "df['Size'] = df['Size'].replace(\"Varies with device\", np.NaN)\n",
    "\n",
    "#Converts Size from string to a kb value\n",
    "#Values that end in Mb are converted to kb\n",
    "def data_string_to_int(data_str):\n",
    "    return {\n",
    "        'k':float(data_str[:-1]),\n",
    "        'M':float(data_str[:-1]) * 1000\n",
    "    }.get(data_str[-1:], np.NaN)\n",
    "\n",
    "\n",
    "df['Size'] = df['Size'].apply(lambda x:  data_string_to_int(x) if pd.notnull(x) else x)\n",
    "df['Size'] = pd.to_numeric(df['Size'])\n",
    "\n",
    "\n",
    "# Formatting Installs\n",
    "# Drops plusses and commas from the strings in the Installs column\n",
    "\n",
    "for index, row in df.iterrows():\n",
    "    df['Installs'][index] = df['Installs'][index][:-1]\n",
    "    df['Installs'][index] = df['Installs'][index].replace(',','')\n",
    "\n",
    "df = df.astype({'Installs': 'int32'})\n",
    "\n",
    "\n",
    "# Formatting Type\n",
    "# Change name of column from \"Type\" to \"Is_Free\" and transform it into a boolean value\n",
    "df = df.rename(columns={\"Type\": \"Is_Free\"})\n",
    "df['Is_Free'] = df['Is_Free'] == 'Free'\n",
    "\n",
    "\n",
    "# Formatting Price\n",
    "# Remove dollar sign from front (if necessary) and change to float\n",
    "for index, row in df.iterrows():\n",
    "    if \"$\" in df['Price'][index]:\n",
    "        df['Price'][index] = df['Price'][index][1:]\n",
    "df = df.astype({'Price': 'float32'})\n",
    "\n",
    "\n",
    "# Formatting Content Rating\n",
    "\n",
    "# This function performs the \"in\" function over a list of possible values that might be in the string. \n",
    "def any_elt_in_list_in_string(list_p, string_p):\n",
    "    for elt in list_p:\n",
    "        if(elt in string_p):\n",
    "            return True\n",
    "    return False\n",
    "\n",
    "# Created three new columns tied to the \"Everyone\", \"Teen\", and \"Adult\" content ratings. \n",
    "for index, row in df.iterrows():\n",
    "    if (any_elt_in_list_in_string([\"Mature\", \"Adults\",\"Unrated\"], df['Content Rating'][index])):\n",
    "        df['Content Rating'][index] = \"Adult\"\n",
    "    elif (\"Teen\" in df['Content Rating'][index]):\n",
    "        df['Content Rating'][index] = \"Teen\"\n",
    "    elif (\"Everyone\" in df['Content Rating'][index]):\n",
    "        df['Content Rating'][index] = \"Everyone\"\n",
    "    else:\n",
    "        df['Content Rating'][index] = \"NaN\"\n",
    "        pass\n",
    "    pass\n",
    "\n",
    "\n",
    "# These are nominal values so they require being encoded as dummy variables first. https://www.dataquest.io/blog/machine-learning-preparing-data/\n",
    "# Separated them in order to allow for machine learning and data analysis\n",
    "\n",
    "dummy_df = pd.get_dummies(df[[\"Content Rating\"]])\n",
    "df = pd.concat([df, dummy_df], axis=1)\n",
    "df = df.drop([\"Content Rating\"], axis=1)\n",
    "\n",
    "\n",
    "# Formatting Genres\n",
    "# Create eight different genres organized by keywords that pertain to that genre. \n",
    "\n",
    "# Utilities have a single or small range of tasks and manage the phone's UI and most basic functionalities. \n",
    "# Basic functionalities includes basic Internet browsing, cellular communication, health tracking, and gps\n",
    "utilities_keywords = [\"Tools\", \"Personalization\", \"Maps\", \"Medical\"]\n",
    "# Social Networking apps are apps whose primary functions are to enable abstracted communication with people over the internet. \n",
    "social_networking_keywords = [\"Communication\",\"Social\", \"Dating\"]\n",
    "# Lifestyle apps are apps that are designed for continual use that have a more complicated function than utilites. \n",
    "# These apps have a primary purpose which is not back-and-forth communication with people on the internet. \n",
    "lifestyle_keywords = [\"Beauty\", \"Events\", \"Finance\", \"Food & Drink\", \"Health & Fitness\", \"House & Home\", \"Lifestyle\", \n",
    "                      \"Shopping\", \"Travel\", \"Weather\", \"News\"]\n",
    "# Productivity apps have all the features of lifestyle apps but are focused on helping people accomplish tasks quicker/easier.\n",
    "# Books are in this category because you dont have to go and buy a physical book, you can get one and read it right away on \n",
    "# your device. \n",
    "productivity_keywords = [\"Business\", \"Productivity\", \"Auto & Vehicles\"]\n",
    "# Education apps are productivity apps that are specifically focused on educational productivity\n",
    "education_keywords = [\"Education\", \"Educational\", \"Libraries & Demo\", \"Books & Reference\", \"Parenting\", \"Pretend Play\"]\n",
    "# Entertainment apps are apps that are focused on helping a user have fun. These are separated from games as a category \n",
    "# due to the sheer number of games on the app store. \n",
    "entertainment_keywords = [\"Comics\", \"Entertainment\", \"Music\", \"Video Player\", \"Brain Games\", \"Music & Video\"]\n",
    "# Creativity apps are apps that allow users to be creative as a primary function, usually with the hardware of the device.\n",
    "creativity_keywords = [\"Art & Design\",\"Photo\",\"Creativity\", \"Video Players & Editors\"]\n",
    "# Games are apps that are defined by their high degree of interactivity and entertainment.\n",
    "games_keywords = [\"Arcade\", \"Puzzle\", \"Racing\", \"Sports\", \"Casual\",\"Adventure\",\"Card\", \"Simulation\",\n",
    "                  \"Trivia\", \"Action\", \"Word\", \"Role Playing\", \"Strategy\",\"Game\", \"Board\",\"Casino\",\n",
    "                 \"Pretend Play\"]\n",
    "\n",
    "# Now we seperate the genres\n",
    "# An app with a semicolon has two genre keywords: if the genre keywords denote two different genres, the app will be entered \n",
    "# into the table again to denote its membership to two different categories. This enables the genre data to be analyzed \n",
    "# within one variable without having to split it among two different variables, but looking at the dataset as a whole must \n",
    "# be filtered for duplicate entries again to avoid double-counting apps that cross genres. \n",
    "\n",
    "# index is from the current row in the table, df is the df\n",
    "# prev_genre is \"\" if this is the first time the function is run and a value if it is the second time this function is run\n",
    "def find_genre_by_keyword(index, df, prev_genre):\n",
    "    ret_genre = None\n",
    "    if (any_elt_in_list_in_string(utilities_keywords, df['Genres'][index])):\n",
    "        if(prev_genre != \"Utilities\"):\n",
    "            ret_genre = \"Utilities\"\n",
    "    if (any_elt_in_list_in_string(social_networking_keywords, df['Genres'][index])):\n",
    "        if(prev_genre != \"Social Networking\"):\n",
    "            ret_genre = \"Social Networking\"\n",
    "    if (any_elt_in_list_in_string(lifestyle_keywords, df['Genres'][index])):\n",
    "        if(prev_genre != \"Lifestyle\"):\n",
    "            ret_genre = \"Lifestyle\"\n",
    "    if (any_elt_in_list_in_string(productivity_keywords, df['Genres'][index])):\n",
    "        if(prev_genre != \"Productivity\"):\n",
    "            ret_genre = \"Productivity\"\n",
    "    if (any_elt_in_list_in_string(education_keywords, df['Genres'][index])):\n",
    "        if(prev_genre != \"Education\"):\n",
    "            ret_genre = \"Education\"\n",
    "    if (any_elt_in_list_in_string(entertainment_keywords, df['Genres'][index])):\n",
    "        if(prev_genre != \"Entertainment\"):\n",
    "            ret_genre = \"Entertainment\" \n",
    "    if (any_elt_in_list_in_string(creativity_keywords, df['Genres'][index])):\n",
    "        if(prev_genre != \"Creativity\"):\n",
    "            ret_genre = \"Creativity\" \n",
    "    if (any_elt_in_list_in_string(games_keywords, df['Genres'][index])):\n",
    "        if(prev_genre != \"Games\"):\n",
    "            ret_genre = \"Games\"\n",
    "    return ret_genre\n",
    "       \n",
    "\n",
    "# This for loop iterates through the rows of the df\n",
    "for index, row in df.iterrows():\n",
    "    genre_1 = find_genre_by_keyword(index, df, \"\")\n",
    "     # Checks for semicolons to create another genre if necessary\n",
    "    if(';' in df['Genres'][index]):\n",
    "        genre_2 = find_genre_by_keyword(index, df, genre_1)\n",
    "    else:\n",
    "        genre_2 = None\n",
    "    if not(genre_2 is None):\n",
    "        # Make deep copy of the row\n",
    "        new_entry = row.copy()\n",
    "        # change the genre column of new_entry to be genre_2's value\n",
    "        new_entry['Genres'] = genre_2\n",
    "        # make a new entry in df for this deep copy\n",
    "        df = df.append(new_entry)\n",
    "    # change the genre column to be genre_1's value \n",
    "    df['Genres'][index] = genre_1\n",
    "\n",
    "# Rename \"Genres\" to \"Genre\" to prepare for shift\n",
    "df = df.rename(columns={\"Genres\": \"Genre\"})\n",
    "    \n",
    "# genres are now successfully categorized in 8 groups. Now we enter the values of Genre as dummy values then drop the Genre column\n",
    "dummy_df = pd.get_dummies(df[[\"Genre\"]])\n",
    "df = pd.concat([df, dummy_df], axis=1)\n",
    "df = df.drop([\"Genre\"], axis=1)\n",
    "df\n",
    "\n",
    "#Now we want to combine the duplicates together.\n",
    "df = df.groupby(['App'], as_index=False).agg({'App': 'first', 'Category': 'first', 'Rating': 'first', 'Reviews': 'first', 'Size': 'first', 'Installs': 'first', \n",
    "                              'Is_Free': 'first', 'Price': 'first', 'Size': 'first', 'Content Rating_Adult': 'first',\n",
    "                              'Content Rating_Everyone': 'first', 'Content Rating_Teen': 'first', 'Last Updated': 'first', \n",
    "                                              'Genre_Creativity': 'sum', 'Genre_Education': 'sum', 'Genre_Entertainment': 'sum', 'Genre_Games': 'sum'\n",
    "                             , 'Genre_Lifestyle': 'sum', 'Genre_Productivity': 'sum', 'Genre_Social Networking': 'sum', 'Genre_Utilities': 'sum'\n",
    "                             , })\n",
    "df = df.sort_values(by = ['Installs'], ascending=False)\n",
    "\n",
    "# Formatting Last Updated\n",
    "df['Last Updated']= pd.to_datetime(df['Last Updated'])\n",
    "df.dtypes"
   ]
  },
  {
   "cell_type": "markdown",
   "metadata": {},
   "source": [
    "## Exploratory Analysis and Visualization \n",
    "\n",
    "Now that our data is cleaned up the next step in the data science life cycle is Exploratory Analysis and Visualization. This is where we plot data and analyse it at surface level to seek potential trends."
   ]
  },
  {
   "cell_type": "markdown",
   "metadata": {},
   "source": [
    "### Temporary Analysis?\n",
    "\n",
    "Hey Clark, so everything here isn't intended to be in the final product of our project, but could be repurposed/restructured. So originally we agreed (honestly due to my insistence) to use Installs as our main predictive variable. It didn't take much graphing to notice that there are a few problems. Installs may look like a numerical variable, but it behaves much more like a categorical variable."
   ]
  },
  {
   "cell_type": "code",
   "execution_count": 31,
   "metadata": {},
   "outputs": [
    {
     "name": "stdout",
     "output_type": "stream",
     "text": [
      "[1000000000  500000000  100000000   50000000   10000000    5000000\n",
      "    1000000     500000     100000      50000      10000       5000\n",
      "       1000        500        100         50         10          5\n",
      "          1          0]\n"
     ]
    }
   ],
   "source": [
    "#amount of unique values in Installs\n",
    "print(df[\"Installs\"].unique())"
   ]
  },
  {
   "cell_type": "markdown",
   "metadata": {},
   "source": [
    "So installs moves up a decimal every two increments after switching from 1 to 5. So in addition to it being awkward to predict, it also grows exponentally which makes graphs awkward.  "
   ]
  },
  {
   "cell_type": "code",
   "execution_count": 66,
   "metadata": {},
   "outputs": [
    {
     "data": {
      "image/png": "[encoded data removed]",
      "text/plain": [
       "<Figure size 432x288 with 1 Axes>"
      ]
     },
     "metadata": {
      "needs_background": "light"
     },
     "output_type": "display_data"
    }
   ],
   "source": [
    "plt.xlabel(\"Number of Installs\")\n",
    "plt.ylabel(\"Number of Reviews\")\n",
    "plt.title(\"Installs vs Reviews\")\n",
    "plt.scatter(df[\"Installs\"],df[\"Reviews\"])\n",
    "plt.xlim(df[\"Installs\"].min(), df[\"Installs\"].max())\n",
    "plt.ylim(df[\"Reviews\"].min(), df[\"Reviews\"].max())\n",
    "plt.autoscale(False)\n",
    "#If we use this graph in the final product scales need to be adjusted."
   ]
  },
  {
   "cell_type": "markdown",
   "metadata": {},
   "source": [
    "Luckally reviews is a different story. We seem to get exact numbers with reviews. However as seen from the graph above, reviews don't necessarily installs which might make the variable unreliable in determining success. Also reviews have lots of zero values"
   ]
  },
  {
   "cell_type": "code",
   "execution_count": 51,
   "metadata": {},
   "outputs": [
    {
     "name": "stdout",
     "output_type": "stream",
     "text": [
      "[ 1433233 69119316 25655305 ...        5      200      594]\n",
      "Number of unique vars in reviews:  5330\n",
      "592\n"
     ]
    }
   ],
   "source": [
    "print(df[\"Reviews\"].unique())\n",
    "print(\"Number of unique vars in reviews: \",len(df[\"Reviews\"].unique()))"
   ]
  },
  {
   "cell_type": "markdown",
   "metadata": {},
   "source": [
    "Also worth noting that both graphs distribuitions are awful. Zero values from garbage apps people toss out onto the store plummet our average."
   ]
  },
  {
   "cell_type": "code",
   "execution_count": 98,
   "metadata": {},
   "outputs": [
    {
     "data": {
      "image/png": "[encoded data removed]",
      "text/plain": [
       "<Figure size 432x288 with 1 Axes>"
      ]
     },
     "metadata": {
      "needs_background": "light"
     },
     "output_type": "display_data"
    }
   ],
   "source": [
    "plt.boxplot(df[\"Installs\"]);"
   ]
  },
  {
   "cell_type": "code",
   "execution_count": 62,
   "metadata": {},
   "outputs": [
    {
     "data": {
      "image/png": "[encoded data removed]",
      "text/plain": [
       "<Figure size 432x288 with 1 Axes>"
      ]
     },
     "metadata": {
      "needs_background": "light"
     },
     "output_type": "display_data"
    }
   ],
   "source": [
    "plt.boxplot(df[\"Reviews\"]);"
   ]
  },
  {
   "cell_type": "markdown",
   "metadata": {},
   "source": [
    "So we have a few options.\n",
    "\n",
    "- We could try and carry on with installs as a numerical value. (Prob unwise)\n",
    "- We could treat installs as a categorical value and use prediction methods like random trees.\n",
    "- We could use number of reviews instead of installs\n",
    "\n",
    "Below are some graphs to explore this more"
   ]
  },
  {
   "cell_type": "code",
   "execution_count": 100,
   "metadata": {},
   "outputs": [
    {
     "data": {
      "image/png": "[encoded data removed]",
      "text/plain": [
       "<Figure size 432x288 with 1 Axes>"
      ]
     },
     "metadata": {
      "needs_background": "light"
     },
     "output_type": "display_data"
    }
   ],
   "source": [
    "plt.xlabel(\"Base 10\")\n",
    "plt.title(\"Looking at installs through exponential buckets\")\n",
    "plt.hist(df[\"Installs\"].apply(lambda x: math.log10(x + 1)), bins=[0,1,2,3,4,5,6,7,8,9,10]);"
   ]
  },
  {
   "cell_type": "code",
   "execution_count": 4,
   "metadata": {},
   "outputs": [],
   "source": [
    "# Later in project: Save half of the data for training and the other half for testing when making a predictive model\n",
    "# I predict there are small issues with the genre system but I will work them out later, things should work without breaking rn"
   ]
  }
 ],
 "metadata": {
  "kernelspec": {
   "display_name": "Python 3",
   "language": "python",
   "name": "python3"
  },
  "language_info": {
   "codemirror_mode": {
    "name": "ipython",
    "version": 3
   },
   "file_extension": ".py",
   "mimetype": "text/x-python",
   "name": "python",
   "nbconvert_exporter": "python",
   "pygments_lexer": "ipython3",
   "version": "3.6.9"
  }
 },
 "nbformat": 4,
 "nbformat_minor": 4
}
